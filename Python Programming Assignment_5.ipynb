{
 "cells": [
  {
   "cell_type": "markdown",
   "id": "4ac9602a",
   "metadata": {},
   "source": [
    "## Python Basic Programming Assignment - 5\n",
    "--------------\n"
   ]
  },
  {
   "cell_type": "markdown",
   "id": "fdaeee06",
   "metadata": {
    "tags": []
   },
   "source": [
    "1. Write a Python Program to Find LCM?"
   ]
  },
  {
   "cell_type": "code",
   "execution_count": 1,
   "id": "797f2168-13cd-4f46-af1d-2768bd1f0f3c",
   "metadata": {},
   "outputs": [
    {
     "name": "stdin",
     "output_type": "stream",
     "text": [
      "Enter the first positive integer:  15\n",
      "Enter the second positive integer:  40\n"
     ]
    },
    {
     "name": "stdout",
     "output_type": "stream",
     "text": [
      "The LCM of 15 and 40 is 120\n"
     ]
    }
   ],
   "source": [
    "# define a function to find the GCD (Greatest Common Divisor) of two numbers\n",
    "def gcd(a, b):\n",
    "    if b == 0:\n",
    "        return a\n",
    "    else:\n",
    "        return gcd(b, a % b)\n",
    "\n",
    "# define a function to find the LCM of two numbers\n",
    "def lcm(a, b):\n",
    "    return (a * b) // gcd(a, b)\n",
    "\n",
    "# prompt the user to enter two positive integers\n",
    "num1 = int(input(\"Enter the first positive integer: \"))\n",
    "num2 = int(input(\"Enter the second positive integer: \"))\n",
    "\n",
    "# find the LCM of the two numbers\n",
    "lcm_of_nums = lcm(num1, num2)\n",
    "\n",
    "# print the LCM\n",
    "print(\"The LCM of\", num1, \"and\", num2, \"is\", lcm_of_nums)"
   ]
  },
  {
   "cell_type": "markdown",
   "id": "2f459cdf",
   "metadata": {},
   "source": [
    "### 2. Write a Python Program to Find HCF?"
   ]
  },
  {
   "cell_type": "code",
   "execution_count": 2,
   "id": "17e2c18e-8c7b-48b3-9cf2-7bc12c285320",
   "metadata": {},
   "outputs": [
    {
     "name": "stdin",
     "output_type": "stream",
     "text": [
      "Enter the first positive integer:  10\n",
      "Enter the second positive integer:  50\n"
     ]
    },
    {
     "name": "stdout",
     "output_type": "stream",
     "text": [
      "The HCF of 10 and 50 is 10\n"
     ]
    }
   ],
   "source": [
    "# define a function to find the HCF of two numbers\n",
    "def hcf(a, b):\n",
    "    if b == 0:\n",
    "        return a\n",
    "    else:\n",
    "        return hcf(b, a % b)\n",
    "\n",
    "# prompt the user to enter two positive integers\n",
    "num1 = int(input(\"Enter the first positive integer: \"))\n",
    "num2 = int(input(\"Enter the second positive integer: \"))\n",
    "\n",
    "# find the HCF of the two numbers\n",
    "hcf_of_nums = hcf(num1, num2)\n",
    "\n",
    "# print the HCF\n",
    "print(\"The HCF of\", num1, \"and\", num2, \"is\", hcf_of_nums)"
   ]
  },
  {
   "cell_type": "markdown",
   "id": "d2c29370",
   "metadata": {},
   "source": [
    "### 3. Write a Python Program to Convert Decimal to Binary, Octal and Hexadecimal?"
   ]
  },
  {
   "cell_type": "code",
   "execution_count": 3,
   "id": "444f5846-3cf5-4ef3-976d-5afc010a07d0",
   "metadata": {},
   "outputs": [
    {
     "name": "stdin",
     "output_type": "stream",
     "text": [
      "Enter a decimal number:  23\n"
     ]
    },
    {
     "name": "stdout",
     "output_type": "stream",
     "text": [
      "23 in binary is 0b10111\n",
      "23 in octal is 0o27\n",
      "23 in hexadecimal is 0x17\n"
     ]
    }
   ],
   "source": [
    "# prompt the user to enter a decimal number\n",
    "decimal = int(input(\"Enter a decimal number: \"))\n",
    "\n",
    "# convert decimal to binary, octal, and hexadecimal\n",
    "binary = bin(decimal)\n",
    "octal = oct(decimal)\n",
    "hexadecimal = hex(decimal)\n",
    "\n",
    "# print the results\n",
    "print(decimal, \"in binary is\", binary)\n",
    "print(decimal, \"in octal is\", octal)\n",
    "print(decimal, \"in hexadecimal is\", hexadecimal)"
   ]
  },
  {
   "cell_type": "markdown",
   "id": "2a16c5fd",
   "metadata": {},
   "source": [
    "### 4. Write a Python Program To Find ASCII value of a character?"
   ]
  },
  {
   "cell_type": "code",
   "execution_count": 4,
   "id": "7acde574-5a96-4db5-bae2-de7c18ee65d1",
   "metadata": {},
   "outputs": [
    {
     "name": "stdin",
     "output_type": "stream",
     "text": [
      "Enter a character:  B\n"
     ]
    },
    {
     "name": "stdout",
     "output_type": "stream",
     "text": [
      "The ASCII value of B is 66\n"
     ]
    }
   ],
   "source": [
    "# Get the input character from the user\n",
    "char = input(\"Enter a character: \")\n",
    "\n",
    "# Use the ord() function to get the ASCII value of the character\n",
    "ascii_value = ord(char)\n",
    "\n",
    "# Print the ASCII value\n",
    "print(\"The ASCII value of\", char, \"is\", ascii_value)"
   ]
  },
  {
   "cell_type": "markdown",
   "id": "226778a0",
   "metadata": {},
   "source": [
    "### 5. Write a Python Program to Make a Simple Calculator with 4 basic mathematical operations?"
   ]
  },
  {
   "cell_type": "code",
   "execution_count": 5,
   "id": "625e583d-8f5d-4fe5-8f18-b350282d1d54",
   "metadata": {},
   "outputs": [
    {
     "name": "stdin",
     "output_type": "stream",
     "text": [
      "Enter the first number:  12\n",
      "Enter the second number:  4\n"
     ]
    },
    {
     "name": "stdout",
     "output_type": "stream",
     "text": [
      "Select operation:\n",
      "1. Add\n",
      "2. Subtract\n",
      "3. Multiply\n",
      "4. Divide\n"
     ]
    },
    {
     "name": "stdin",
     "output_type": "stream",
     "text": [
      "Enter choice (1/2/3/4):  3\n"
     ]
    },
    {
     "name": "stdout",
     "output_type": "stream",
     "text": [
      "12.0 * 4.0 = 48.0\n"
     ]
    }
   ],
   "source": [
    "# Define a function to add two numbers\n",
    "def add(x, y):\n",
    "    return x + y\n",
    "\n",
    "# Define a function to subtract two numbers\n",
    "def subtract(x, y):\n",
    "    return x - y\n",
    "\n",
    "# Define a function to multiply two numbers\n",
    "def multiply(x, y):\n",
    "    return x * y\n",
    "\n",
    "# Define a function to divide two numbers\n",
    "def divide(x, y):\n",
    "    return x / y\n",
    "\n",
    "# Get the first number from the user\n",
    "num1 = float(input(\"Enter the first number: \"))\n",
    "\n",
    "# Get the second number from the user\n",
    "num2 = float(input(\"Enter the second number: \"))\n",
    "\n",
    "# Print the menu of operations\n",
    "print(\"Select operation:\")\n",
    "print(\"1. Add\")\n",
    "print(\"2. Subtract\")\n",
    "print(\"3. Multiply\")\n",
    "print(\"4. Divide\")\n",
    "\n",
    "# Get the user's choice of operation\n",
    "choice = input(\"Enter choice (1/2/3/4): \")\n",
    "\n",
    "# Perform the selected operation\n",
    "if choice == '1':\n",
    "    print(num1, \"+\", num2, \"=\", add(num1, num2))\n",
    "elif choice == '2':\n",
    "    print(num1, \"-\", num2, \"=\", subtract(num1, num2))\n",
    "elif choice == '3':\n",
    "    print(num1, \"*\", num2, \"=\", multiply(num1, num2))\n",
    "elif choice == '4':\n",
    "    print(num1, \"/\", num2, \"=\", divide(num1, num2))\n",
    "else:\n",
    "    print(\"Invalid input\")"
   ]
  }
 ],
 "metadata": {
  "kernelspec": {
   "display_name": "Python 3 (ipykernel)",
   "language": "python",
   "name": "python3"
  },
  "language_info": {
   "codemirror_mode": {
    "name": "ipython",
    "version": 3
   },
   "file_extension": ".py",
   "mimetype": "text/x-python",
   "name": "python",
   "nbconvert_exporter": "python",
   "pygments_lexer": "ipython3",
   "version": "3.10.6"
  }
 },
 "nbformat": 4,
 "nbformat_minor": 5
}
