{
 "cells": [
  {
   "cell_type": "markdown",
   "id": "20cb4340",
   "metadata": {
    "id": "20cb4340"
   },
   "source": [
    "## Programming Assignment_4\n",
    "----------------"
   ]
  },
  {
   "cell_type": "markdown",
   "id": "4fdb6695",
   "metadata": {
    "id": "4fdb6695"
   },
   "source": [
    "### 1. Write a Python Program to Find the Factorial of a Number?"
   ]
  },
  {
   "cell_type": "code",
   "execution_count": 2,
   "id": "hOeAnUwS8YPP",
   "metadata": {
    "id": "hOeAnUwS8YPP"
   },
   "outputs": [
    {
     "name": "stdin",
     "output_type": "stream",
     "text": [
      "Enter a number:  8\n"
     ]
    },
    {
     "name": "stdout",
     "output_type": "stream",
     "text": [
      "The factorial of 8 is 40320\n"
     ]
    }
   ],
   "source": [
    "# ask the user to input a number\n",
    "num = int(input(\"Enter a number: \"))\n",
    "\n",
    "# initialize the factorial variable to 1\n",
    "factorial = 1\n",
    "\n",
    "# loop through the numbers from 1 to num\n",
    "for i in range(1, num + 1):\n",
    "    factorial = factorial*i\n",
    "\n",
    "# print the factorial to the console\n",
    "print(f\"The factorial of {num} is {factorial}\")"
   ]
  },
  {
   "cell_type": "markdown",
   "id": "e6beef62",
   "metadata": {
    "id": "e6beef62"
   },
   "source": [
    "### 2. Write a Python Program to Display the multiplication Table?"
   ]
  },
  {
   "cell_type": "code",
   "execution_count": 3,
   "id": "KRlnRPqETMOx",
   "metadata": {
    "id": "KRlnRPqETMOx"
   },
   "outputs": [
    {
     "name": "stdin",
     "output_type": "stream",
     "text": [
      "Enter a number:  13\n"
     ]
    },
    {
     "name": "stdout",
     "output_type": "stream",
     "text": [
      "13 x 1 = 13\n",
      "13 x 2 = 26\n",
      "13 x 3 = 39\n",
      "13 x 4 = 52\n",
      "13 x 5 = 65\n",
      "13 x 6 = 78\n",
      "13 x 7 = 91\n",
      "13 x 8 = 104\n",
      "13 x 9 = 117\n",
      "13 x 10 = 130\n"
     ]
    }
   ],
   "source": [
    "# ask the user to input a number\n",
    "num = int(input(\"Enter a number: \"))\n",
    "\n",
    "# loop through the numbers from 1 to 10\n",
    "for i in range(1, 11):\n",
    "    # calculate the product of the number and the current index\n",
    "    product = num * i\n",
    "    # print the product to the console\n",
    "    print(f\"{num} x {i} = {product}\")"
   ]
  },
  {
   "cell_type": "markdown",
   "id": "7de7eba5",
   "metadata": {
    "id": "7de7eba5"
   },
   "source": [
    "### 3. Write a Python Program to Print the Fibonacci sequence?\n"
   ]
  },
  {
   "cell_type": "code",
   "execution_count": 5,
   "id": "26c51cc3-b0d1-4bf0-b158-8ba45e923255",
   "metadata": {},
   "outputs": [
    {
     "name": "stdin",
     "output_type": "stream",
     "text": [
      "Enter the limit of the Fibonacci sequence:  9\n"
     ]
    },
    {
     "name": "stdout",
     "output_type": "stream",
     "text": [
      "0 1 1 2 3 5 8 "
     ]
    }
   ],
   "source": [
    "# prompt the user to enter the limit of the Fibonacci sequence\n",
    "limit = int(input(\"Enter the limit of the Fibonacci sequence: \"))\n",
    "\n",
    "# initialize the first two numbers of the sequence\n",
    "a, b = 0, 1\n",
    "\n",
    "# loop through the sequence and print each number\n",
    "while a < limit:\n",
    "    print(a, end=' ')\n",
    "    a, b = b, a + b"
   ]
  },
  {
   "cell_type": "markdown",
   "id": "0446442e",
   "metadata": {
    "id": "0446442e"
   },
   "source": [
    "### 4. Write a Python Program to Check Armstrong Number?"
   ]
  },
  {
   "cell_type": "code",
   "execution_count": 6,
   "id": "d82c5a8a-787a-450c-ac89-759f310399d3",
   "metadata": {},
   "outputs": [
    {
     "name": "stdin",
     "output_type": "stream",
     "text": [
      "Enter a number:  153\n"
     ]
    },
    {
     "name": "stdout",
     "output_type": "stream",
     "text": [
      "153 is an Armstrong number\n"
     ]
    }
   ],
   "source": [
    "# prompt the user to enter a number\n",
    "num = int(input(\"Enter a number: \"))\n",
    "\n",
    "# find the number of digits in the number\n",
    "num_of_digits = len(str(num))\n",
    "\n",
    "# initialize the sum of the cubes of the digits to 0\n",
    "sum_of_cubes = 0\n",
    "\n",
    "# loop through each digit in the number and add its cube to the sum\n",
    "for digit in str(num):\n",
    "    sum_of_cubes += int(digit) ** num_of_digits\n",
    "\n",
    "# check if the sum of the cubes of the digits is equal to the original number\n",
    "if sum_of_cubes == num:\n",
    "    print(num, \"is an Armstrong number\")\n",
    "else:\n",
    "    print(num, \"is not an Armstrong number\")"
   ]
  },
  {
   "cell_type": "markdown",
   "id": "a6f9adfe",
   "metadata": {
    "id": "a6f9adfe"
   },
   "source": [
    "### 5. Write a Python Program to Find Armstrong Number in an Interval?"
   ]
  },
  {
   "cell_type": "code",
   "execution_count": 7,
   "id": "19befae7-6de4-40c4-951e-31bd7cc0bee2",
   "metadata": {},
   "outputs": [
    {
     "name": "stdin",
     "output_type": "stream",
     "text": [
      "Enter the starting number of the interval:  10\n",
      "Enter the ending number of the interval:  500\n"
     ]
    },
    {
     "name": "stdout",
     "output_type": "stream",
     "text": [
      "153\n",
      "370\n",
      "371\n",
      "407\n"
     ]
    }
   ],
   "source": [
    "# prompt the user to enter the interval\n",
    "start = int(input(\"Enter the starting number of the interval: \"))\n",
    "end = int(input(\"Enter the ending number of the interval: \"))\n",
    "\n",
    "# loop through each number in the interval\n",
    "for num in range(start, end + 1):\n",
    "\n",
    "    # find the number of digits in the number\n",
    "    num_of_digits = len(str(num))\n",
    "\n",
    "    # initialize the sum of the cubes of the digits to 0\n",
    "    sum_of_cubes = 0\n",
    "\n",
    "    # loop through each digit in the number and add its cube to the sum\n",
    "    for digit in str(num):\n",
    "        sum_of_cubes += int(digit) ** num_of_digits\n",
    "\n",
    "    # check if the sum of the cubes of the digits is equal to the original number\n",
    "    if sum_of_cubes == num:\n",
    "        print(num)"
   ]
  },
  {
   "cell_type": "markdown",
   "id": "157cad60",
   "metadata": {
    "id": "157cad60"
   },
   "source": [
    "### 6. Write a Python Program to Find the Sum of Natural Numbers?"
   ]
  },
  {
   "cell_type": "code",
   "execution_count": 8,
   "id": "9e0ceb41-9f93-4722-9ec2-c82295b0f568",
   "metadata": {},
   "outputs": [
    {
     "name": "stdin",
     "output_type": "stream",
     "text": [
      "Enter a positive integer:  25\n"
     ]
    },
    {
     "name": "stdout",
     "output_type": "stream",
     "text": [
      "The sum of the first 25 natural numbers is 325\n"
     ]
    }
   ],
   "source": [
    "# prompt the user to enter a positive integer\n",
    "num = int(input(\"Enter a positive integer: \"))\n",
    "\n",
    "# initialize the sum of natural numbers to 0\n",
    "sum_of_naturals = 0\n",
    "\n",
    "# loop through each natural number from 1 to num and add it to the sum\n",
    "for i in range(1, num + 1):\n",
    "    sum_of_naturals += i\n",
    "\n",
    "# print the sum of natural numbers\n",
    "print(\"The sum of the first\", num, \"natural numbers is\", sum_of_naturals)"
   ]
  }
 ],
 "metadata": {
  "colab": {
   "provenance": []
  },
  "kernelspec": {
   "display_name": "Python 3 (ipykernel)",
   "language": "python",
   "name": "python3"
  },
  "language_info": {
   "codemirror_mode": {
    "name": "ipython",
    "version": 3
   },
   "file_extension": ".py",
   "mimetype": "text/x-python",
   "name": "python",
   "nbconvert_exporter": "python",
   "pygments_lexer": "ipython3",
   "version": "3.10.6"
  }
 },
 "nbformat": 4,
 "nbformat_minor": 5
}
