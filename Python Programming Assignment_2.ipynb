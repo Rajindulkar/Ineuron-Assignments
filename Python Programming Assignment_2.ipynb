{
 "cells": [
  {
   "cell_type": "markdown",
   "id": "08c66ea5",
   "metadata": {
    "id": "08c66ea5"
   },
   "source": [
    "## Programming Assignment_2\n",
    "-------------"
   ]
  },
  {
   "cell_type": "markdown",
   "id": "4e50cf42",
   "metadata": {
    "id": "4e50cf42"
   },
   "source": [
    "1. Write a Python program to convert kilometers to miles?\n"
   ]
  },
  {
   "cell_type": "markdown",
   "id": "0df4e6bf",
   "metadata": {
    "id": "0df4e6bf"
   },
   "source": [
    "### 2.Write a Python program to convert Celsius to Fahrenheit?"
   ]
  },
  {
   "cell_type": "markdown",
   "id": "46129b8e",
   "metadata": {
    "id": "46129b8e"
   },
   "source": [
    "3. Write a Python program to display calendar?\n"
   ]
  },
  {
   "cell_type": "markdown",
   "id": "db2bf0f7",
   "metadata": {
    "id": "db2bf0f7"
   },
   "source": [
    "### 4. Write a Python program to solve quadratic equation?"
   ]
  },
  {
   "cell_type": "markdown",
   "id": "f70f74c9",
   "metadata": {
    "id": "f70f74c9"
   },
   "source": [
    "5. Write a Python program to swap two variables without temp variable?"
   ]
  },
  {
   "cell_type": "code",
   "execution_count": 2,
   "id": "315eb351-d1ef-4dc4-ab5b-5f58b2fd1e59",
   "metadata": {},
   "outputs": [
    {
     "name": "stdin",
     "output_type": "stream",
     "text": [
      "enter dist in kilometer: 12\n"
     ]
    },
    {
     "name": "stdout",
     "output_type": "stream",
     "text": [
      "12.0 km is equal to 7.4556 mile\n"
     ]
    }
   ],
   "source": [
    "#ask user to input distance that needs to be converted\n",
    "km=float(input(\"enter dist in kilometer:\"))\n",
    "\n",
    "conversion_factor=0.6213\n",
    "\n",
    "mile=km*conversion_factor\n",
    "\n",
    "print(km,\"km\",\"is equal to\",mile,\"mile\")"
   ]
  },
  {
   "cell_type": "code",
   "execution_count": 3,
   "id": "f221f4db-a563-4082-9d3c-9b99654bcfe7",
   "metadata": {},
   "outputs": [
    {
     "name": "stdin",
     "output_type": "stream",
     "text": [
      "enter temperature in celcius: 100\n"
     ]
    },
    {
     "name": "stdout",
     "output_type": "stream",
     "text": [
      "100.0 celcius is equal to 212.0 fahrenheit\n"
     ]
    }
   ],
   "source": [
    "#ask user to input temperature in celcius\n",
    "celcius=float(input(\"enter temperature in celcius:\"))\n",
    "\n",
    "fahrenheit=(celcius*9/5)+32\n",
    "\n",
    "print(f\"{celcius} celcius is equal to {fahrenheit} fahrenheit\")"
   ]
  },
  {
   "cell_type": "code",
   "execution_count": 7,
   "id": "98322336-6c4f-4df7-997e-ce1f7e269d9c",
   "metadata": {},
   "outputs": [
    {
     "name": "stdin",
     "output_type": "stream",
     "text": [
      "enter year (YYYY): 2023\n",
      "enter month (1-12): 3\n"
     ]
    },
    {
     "name": "stdout",
     "output_type": "stream",
     "text": [
      "     March 2023\n",
      "Mo Tu We Th Fr Sa Su\n",
      "       1  2  3  4  5\n",
      " 6  7  8  9 10 11 12\n",
      "13 14 15 16 17 18 19\n",
      "20 21 22 23 24 25 26\n",
      "27 28 29 30 31\n",
      "\n"
     ]
    }
   ],
   "source": [
    "import calendar\n",
    "\n",
    "#ask user to input valid year and month\n",
    "year=int(input(\"enter year (YYYY):\"))\n",
    "month=int(input(\"enter month (1-12):\"))\n",
    "\n",
    "print(calendar.month(year,month))"
   ]
  },
  {
   "cell_type": "code",
   "execution_count": 8,
   "id": "daa86ac7-4176-4b0f-8bf9-daf6db25912d",
   "metadata": {},
   "outputs": [
    {
     "name": "stdin",
     "output_type": "stream",
     "text": [
      "Enter coefficient a:  4\n",
      "Enter coefficient b:  3\n",
      "Enter coefficient c:  8\n"
     ]
    },
    {
     "name": "stdout",
     "output_type": "stream",
     "text": [
      "The roots are -0.375+1.3635890143294642i and -0.375-1.3635890143294642i\n"
     ]
    }
   ],
   "source": [
    "import math\n",
    "\n",
    "# ask the user to input the coefficients\n",
    "a = float(input(\"Enter coefficient a: \"))\n",
    "b = float(input(\"Enter coefficient b: \"))\n",
    "c = float(input(\"Enter coefficient c: \"))\n",
    "\n",
    "# calculate the discriminant\n",
    "discriminant = b**2 - 4*a*c\n",
    "\n",
    "# check if the discriminant is positive, zero, or negative\n",
    "if discriminant > 0:\n",
    "    # if the discriminant is positive, there are two real roots\n",
    "    x1 = (-b + math.sqrt(discriminant)) / (2*a)\n",
    "    x2 = (-b - math.sqrt(discriminant)) / (2*a)\n",
    "    print(f\"The roots are {x1} and {x2}\")\n",
    "elif discriminant == 0:\n",
    "    # if the discriminant is zero, there is one real root\n",
    "    x = -b / (2*a)\n",
    "    print(f\"The root is {x}\")\n",
    "else:\n",
    "    # if the discriminant is negative, there are two complex roots\n",
    "    real_part = -b / (2*a)\n",
    "    imaginary_part = math.sqrt(-discriminant) / (2*a)\n",
    "    print(f\"The roots are {real_part}+{imaginary_part}i and {real_part}-{imaginary_part}i\")"
   ]
  },
  {
   "cell_type": "code",
   "execution_count": null,
   "id": "010f8427-2ff4-4de9-89d1-230578746013",
   "metadata": {},
   "outputs": [],
   "source": [
    "#ask user to input values of a and b\n",
    "a=int(input(\"enter value of a:\"))\n",
    "b=int(input(\"enter value of b:\"))\n",
    "\n",
    "a,b=b,a\n",
    "\n",
    "print(f\"value of a after swapping\""
   ]
  }
 ],
 "metadata": {
  "colab": {
   "provenance": []
  },
  "kernelspec": {
   "display_name": "Python 3 (ipykernel)",
   "language": "python",
   "name": "python3"
  },
  "language_info": {
   "codemirror_mode": {
    "name": "ipython",
    "version": 3
   },
   "file_extension": ".py",
   "mimetype": "text/x-python",
   "name": "python",
   "nbconvert_exporter": "python",
   "pygments_lexer": "ipython3",
   "version": "3.10.6"
  }
 },
 "nbformat": 4,
 "nbformat_minor": 5
}
